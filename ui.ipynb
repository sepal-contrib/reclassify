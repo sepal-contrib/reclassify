{
 "cells": [
  {
   "cell_type": "code",
   "execution_count": null,
   "metadata": {},
   "outputs": [],
   "source": [
    "# !!! testing purpose !!!\n",
    "# this cell is for testing the translation component\n",
    "# try uncomment the 2 following line to see the fr translation of the module\n",
    "# import os\n",
    "# os.environ[\"CUSTOM_LANGUAGE\"] = \"fr\""
   ]
  },
  {
   "cell_type": "code",
   "execution_count": null,
   "metadata": {},
   "outputs": [],
   "source": [
    "from sepal_ui import sepalwidgets as sw\n",
    "from component.message import cm"
   ]
  },
  {
   "cell_type": "code",
   "execution_count": null,
   "metadata": {},
   "outputs": [],
   "source": [
    "# Create an appBar\n",
    "app_bar = sw.AppBar(cm.app.title)"
   ]
  },
  {
   "cell_type": "code",
   "execution_count": null,
   "metadata": {},
   "outputs": [],
   "source": [
    "# load the patial files\n",
    "%run 'about_ui.ipynb'\n",
    "%run 'table_ui.ipynb'\n",
    "%run 'rec_gee_ui.ipynb'\n",
    "%run 'rec_local_ui.ipynb'\n",
    "\n",
    "# Gather all the partial tiles that you created previously\n",
    "app_content = [table, rec_local, rec_gee, about_tile, disclaimer_tile]"
   ]
  },
  {
   "cell_type": "code",
   "execution_count": null,
   "metadata": {},
   "outputs": [],
   "source": [
    "# create a drawer for each group of tile\n",
    "# use the DrawerItem widget from sepalwidget (name_of_drawer, icon, the id of the widgets you want to display)\n",
    "# use the display_tile() method to link the times with the drawer items\n",
    "items = [\n",
    "    sw.DrawerItem(cm.app.drawer_item.table, \"mdi-table\", card=\"table_tile\"),\n",
    "    sw.DrawerItem(cm.app.drawer_item.rec_gee, \"mdi-google-cloud\", card=\"rec_gee_tile\"),\n",
    "    sw.DrawerItem(cm.app.drawer_item.rec_local, \"mdi-folder\", card=\"rec_local_tile\"),\n",
    "    sw.DrawerItem(cm.app.drawer_item.about, \"mdi-help-circle\", card=\"about_tile\"),\n",
    "]\n",
    "\n",
    "# !!! not mandatory !!!\n",
    "# Add the links to the code, wiki and issue tracker of your\n",
    "code_link = \"https://github.com/sepal-contrib/reclassify\"\n",
    "wiki_link = \"https://github.com/sepal-contrib/reclassify/blob/master/doc/fake_doc.md\"\n",
    "issue_link = \"https://github.com/sepal-contrib/reclassify/issues/new\"\n",
    "\n",
    "# Create the side drawer with all its components\n",
    "# The display_drawer() method link the drawer with the app bar\n",
    "app_drawer = sw.NavDrawer(items=items, code=code_link, wiki=wiki_link, issue=issue_link)"
   ]
  },
  {
   "cell_type": "code",
   "execution_count": null,
   "metadata": {},
   "outputs": [],
   "source": [
    "# build the Html final app by gathering everything\n",
    "app = sw.App(tiles=app_content, appBar=app_bar, navDrawer=app_drawer).show_tile(\n",
    "    \"about_tile\"\n",
    ")  # id of the tile you want to display"
   ]
  },
  {
   "cell_type": "code",
   "execution_count": null,
   "metadata": {},
   "outputs": [],
   "source": [
    "# display the app\n",
    "# this final cell will be the only one displaying something in this notebook\n",
    "# if you run all this notebook you may see elements displayed on the left side of your screen but it won't work\n",
    "# it can only be launched with voila as it's creating a full page javascript interface\n",
    "app"
   ]
  },
  {
   "cell_type": "code",
   "execution_count": null,
   "metadata": {},
   "outputs": [],
   "source": []
  }
 ],
 "metadata": {
  "kernelspec": {
   "display_name": "Python 3",
   "language": "python",
   "name": "python3"
  },
  "language_info": {
   "codemirror_mode": {
    "name": "ipython",
    "version": 3
   },
   "file_extension": ".py",
   "mimetype": "text/x-python",
   "name": "python",
   "nbconvert_exporter": "python",
   "pygments_lexer": "ipython3",
   "version": "3.6.9"
  },
  "voila": {
   "theme": "dark"
  }
 },
 "nbformat": 4,
 "nbformat_minor": 4
}
