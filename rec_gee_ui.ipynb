{
 "cells": [
  {
   "cell_type": "code",
   "execution_count": null,
   "id": "cbf2fadf-8f6b-4d50-8c76-f20a4b2ad6db",
   "metadata": {},
   "outputs": [],
   "source": [
    "from component import tile"
   ]
  },
  {
   "cell_type": "code",
   "execution_count": null,
   "id": "e1c2cb0c-7e34-4c9c-b3f2-0faaa7b943c5",
   "metadata": {},
   "outputs": [],
   "source": [
    "rec_gee = tile.RecTile(gee=True)"
   ]
  },
  {
   "cell_type": "code",
   "execution_count": null,
   "id": "e059cb61-3a6f-446c-8503-8528518673d2",
   "metadata": {},
   "outputs": [],
   "source": [
    "rec_gee"
   ]
  },
  {
   "cell_type": "code",
   "execution_count": null,
   "id": "c9c70ae7-1941-4f79-b4d5-ad6451b72887",
   "metadata": {},
   "outputs": [],
   "source": []
  }
 ],
 "metadata": {
  "kernelspec": {
   "display_name": "Python 3",
   "language": "python",
   "name": "python3"
  },
  "language_info": {
   "codemirror_mode": {
    "name": "ipython",
    "version": 3
   },
   "file_extension": ".py",
   "mimetype": "text/x-python",
   "name": "python",
   "nbconvert_exporter": "python",
   "pygments_lexer": "ipython3",
   "version": "3.6.9"
  }
 },
 "nbformat": 4,
 "nbformat_minor": 5
}
