{
 "cells": [
  {
   "cell_type": "code",
   "execution_count": null,
   "id": "2a0893d4-b07a-4918-9259-7e24a4f0df59",
   "metadata": {},
   "outputs": [],
   "source": [
    "from component import tile"
   ]
  },
  {
   "cell_type": "code",
   "execution_count": null,
   "id": "28e61f77-6439-48b2-ba4b-c747e0e24541",
   "metadata": {},
   "outputs": [],
   "source": [
    "table = tile.TableTile()"
   ]
  },
  {
   "cell_type": "code",
   "execution_count": null,
   "id": "b853585a-a171-4bb7-8ecc-c1ff32e0a6be",
   "metadata": {},
   "outputs": [],
   "source": [
    "table"
   ]
  }
 ],
 "metadata": {
  "kernelspec": {
   "display_name": "Python 3",
   "language": "python",
   "name": "python3"
  },
  "language_info": {
   "codemirror_mode": {
    "name": "ipython",
    "version": 3
   },
   "file_extension": ".py",
   "mimetype": "text/x-python",
   "name": "python",
   "nbconvert_exporter": "python",
   "pygments_lexer": "ipython3",
   "version": "3.6.9"
  }
 },
 "nbformat": 4,
 "nbformat_minor": 5
}
