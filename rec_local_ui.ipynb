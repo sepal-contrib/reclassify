{
 "cells": [
  {
   "cell_type": "code",
   "execution_count": null,
   "id": "3df30172-b383-498b-8949-05e4d49820cd",
   "metadata": {},
   "outputs": [],
   "source": [
    "from component import tile"
   ]
  },
  {
   "cell_type": "code",
   "execution_count": null,
   "id": "ae8fa561-4df9-41ff-8ab3-a5977c08cfad",
   "metadata": {},
   "outputs": [],
   "source": [
    "rec_local = tile.RecTile(gee=False)"
   ]
  },
  {
   "cell_type": "code",
   "execution_count": null,
   "id": "6524f230-ec41-4727-bfe2-ece49b30a505",
   "metadata": {},
   "outputs": [],
   "source": [
    "rec_local"
   ]
  },
  {
   "cell_type": "code",
   "execution_count": null,
   "id": "a2f2442f-a145-4c70-9b2d-d1617e5d398c",
   "metadata": {},
   "outputs": [],
   "source": []
  }
 ],
 "metadata": {
  "kernelspec": {
   "display_name": "Python 3",
   "language": "python",
   "name": "python3"
  },
  "language_info": {
   "codemirror_mode": {
    "name": "ipython",
    "version": 3
   },
   "file_extension": ".py",
   "mimetype": "text/x-python",
   "name": "python",
   "nbconvert_exporter": "python",
   "pygments_lexer": "ipython3",
   "version": "3.6.9"
  }
 },
 "nbformat": 4,
 "nbformat_minor": 5
}
